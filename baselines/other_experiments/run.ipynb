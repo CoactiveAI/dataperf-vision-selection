{
 "cells": [
  {
   "cell_type": "code",
   "execution_count": 1,
   "id": "d0ef2ba7-b0cd-436a-bdde-716e47f1c67f",
   "metadata": {},
   "outputs": [],
   "source": [
    "import pandas as pd\n",
    "import numpy as np"
   ]
  },
  {
   "cell_type": "code",
   "execution_count": 2,
   "id": "d7a5c8b4-6f1a-4dfe-8a79-e66ea6ddd3aa",
   "metadata": {},
   "outputs": [],
   "source": [
    "path = '/Users/rafael/Downloads/dataperf-vision-selection-resources/embeddings/train_emb_256_dataperf.parquet/part-00000-c487d15f-d29d-4c93-96c2-4caf4c12cd59-c000.snappy.parquet'"
   ]
  },
  {
   "cell_type": "code",
   "execution_count": 3,
   "id": "f9c17b76-ce54-43a0-b673-5b8ee297a5d9",
   "metadata": {},
   "outputs": [],
   "source": [
    "df = pd.read_parquet(path)"
   ]
  },
  {
   "cell_type": "code",
   "execution_count": 4,
   "id": "6edd744e-4da3-4aad-8432-88383fd19e4f",
   "metadata": {
    "tags": []
   },
   "outputs": [],
   "source": [
    "for i in range(10):\n",
    "    parquet_num = str(i).zfill(5)\n",
    "    path = f'/Users/rafael/Downloads/dataperf-vision-selection-resources/embeddings/train_emb_256_dataperf.parquet/part-{parquet_num}-c487d15f-d29d-4c93-96c2-4caf4c12cd59-c000.snappy.parquet'\n",
    "    df2 = pd.read_parquet(path)\n",
    "    df = df.append(df2)"
   ]
  },
  {
   "cell_type": "code",
   "execution_count": 20,
   "id": "948a5074-99c6-46fc-aed3-f09d2ed26b67",
   "metadata": {},
   "outputs": [
    {
     "data": {
      "text/html": [
       "<div>\n",
       "<style scoped>\n",
       "    .dataframe tbody tr th:only-of-type {\n",
       "        vertical-align: middle;\n",
       "    }\n",
       "\n",
       "    .dataframe tbody tr th {\n",
       "        vertical-align: top;\n",
       "    }\n",
       "\n",
       "    .dataframe thead th {\n",
       "        text-align: right;\n",
       "    }\n",
       "</style>\n",
       "<table border=\"1\" class=\"dataframe\">\n",
       "  <thead>\n",
       "    <tr style=\"text-align: right;\">\n",
       "      <th></th>\n",
       "      <th>ImageID</th>\n",
       "      <th>embedding</th>\n",
       "    </tr>\n",
       "  </thead>\n",
       "  <tbody>\n",
       "    <tr>\n",
       "      <th>0</th>\n",
       "      <td>0001771c86cadcd6</td>\n",
       "      <td>[0.7272707919841341, 1.336483982316891, -0.164...</td>\n",
       "    </tr>\n",
       "    <tr>\n",
       "      <th>1</th>\n",
       "      <td>0003db14e5cdc1c4</td>\n",
       "      <td>[1.7126857273368188, -0.11685025791386651, -1....</td>\n",
       "    </tr>\n",
       "    <tr>\n",
       "      <th>2</th>\n",
       "      <td>00080e248756d4dd</td>\n",
       "      <td>[0.8326104343431097, 0.4016596514351839, 1.017...</td>\n",
       "    </tr>\n",
       "    <tr>\n",
       "      <th>3</th>\n",
       "      <td>00094d307650046a</td>\n",
       "      <td>[0.3379979616695768, -0.3716915576725939, -0.9...</td>\n",
       "    </tr>\n",
       "    <tr>\n",
       "      <th>4</th>\n",
       "      <td>000b76a9b80ba43a</td>\n",
       "      <td>[1.0386764605271153, 1.0388317175923953, 0.425...</td>\n",
       "    </tr>\n",
       "    <tr>\n",
       "      <th>...</th>\n",
       "      <td>...</td>\n",
       "      <td>...</td>\n",
       "    </tr>\n",
       "    <tr>\n",
       "      <th>16677</th>\n",
       "      <td>ffee8a942d5f46f5</td>\n",
       "      <td>[-0.4032568158266959, -1.1216809493878481, 0.3...</td>\n",
       "    </tr>\n",
       "    <tr>\n",
       "      <th>16678</th>\n",
       "      <td>fff5531bf50e14ff</td>\n",
       "      <td>[-1.3310225644952542, 0.6147678624111613, -0.7...</td>\n",
       "    </tr>\n",
       "    <tr>\n",
       "      <th>16679</th>\n",
       "      <td>fff8991fe2ddeb7e</td>\n",
       "      <td>[-1.085723378698474, -0.998268968641006, -0.29...</td>\n",
       "    </tr>\n",
       "    <tr>\n",
       "      <th>16680</th>\n",
       "      <td>fffd06d7764cfc52</td>\n",
       "      <td>[-1.8009028307864514, 1.2498299457095756, -0.3...</td>\n",
       "    </tr>\n",
       "    <tr>\n",
       "      <th>16681</th>\n",
       "      <td>fffd81ba57715c4c</td>\n",
       "      <td>[-0.12192140594927368, -1.9914731328587736, -0...</td>\n",
       "    </tr>\n",
       "  </tbody>\n",
       "</table>\n",
       "<p>182547 rows × 2 columns</p>\n",
       "</div>"
      ],
      "text/plain": [
       "                ImageID                                          embedding\n",
       "0      0001771c86cadcd6  [0.7272707919841341, 1.336483982316891, -0.164...\n",
       "1      0003db14e5cdc1c4  [1.7126857273368188, -0.11685025791386651, -1....\n",
       "2      00080e248756d4dd  [0.8326104343431097, 0.4016596514351839, 1.017...\n",
       "3      00094d307650046a  [0.3379979616695768, -0.3716915576725939, -0.9...\n",
       "4      000b76a9b80ba43a  [1.0386764605271153, 1.0388317175923953, 0.425...\n",
       "...                 ...                                                ...\n",
       "16677  ffee8a942d5f46f5  [-0.4032568158266959, -1.1216809493878481, 0.3...\n",
       "16678  fff5531bf50e14ff  [-1.3310225644952542, 0.6147678624111613, -0.7...\n",
       "16679  fff8991fe2ddeb7e  [-1.085723378698474, -0.998268968641006, -0.29...\n",
       "16680  fffd06d7764cfc52  [-1.8009028307864514, 1.2498299457095756, -0.3...\n",
       "16681  fffd81ba57715c4c  [-0.12192140594927368, -1.9914731328587736, -0...\n",
       "\n",
       "[182547 rows x 2 columns]"
      ]
     },
     "execution_count": 20,
     "metadata": {},
     "output_type": "execute_result"
    }
   ],
   "source": [
    "df"
   ]
  },
  {
   "cell_type": "code",
   "execution_count": 15,
   "id": "46290559-0c60-412d-986c-ac65395e7bea",
   "metadata": {},
   "outputs": [],
   "source": [
    "import boto3"
   ]
  },
  {
   "cell_type": "code",
   "execution_count": 16,
   "id": "fd00414c-2760-4316-ab94-9fe7a3459b58",
   "metadata": {},
   "outputs": [],
   "source": [
    "session = boto3.Session(profile_name = 'MLCommons', region_name = \"us-west-1\")\n",
    "s3_client = session.client('s3')"
   ]
  },
  {
   "cell_type": "code",
   "execution_count": 45,
   "id": "c4bccb48-9779-4fa6-9422-4c4843ec62b5",
   "metadata": {},
   "outputs": [],
   "source": [
    "available_ids = []"
   ]
  },
  {
   "cell_type": "code",
   "execution_count": 46,
   "id": "31d644ea-9d26-48e3-82c4-f8d4c9b8fae8",
   "metadata": {},
   "outputs": [],
   "source": [
    "for i in s3_client.list_objects_v2(\n",
    "    Bucket = 'vision-dataperf',\n",
    "    Prefix = 'public_train_dataset_256embeddings_dynabench_formatted/train')['Contents']:\n",
    "    #StartAfter = 'public_train_dataset_256embeddings_dynabench_formatted/train0053e81841897c73.npy' )['Contents']:\n",
    "    id = i['Key']\n",
    "    id = id.strip('public_train_dataset_256embeddings_dynabench_formatted/train')\n",
    "    id = id.strip('.npy')\n",
    "    if df.loc[df['ImageID'] == id].empty:\n",
    "        continue\n",
    "    else:\n",
    "        available_ids.append(id)\n",
    "        #print(df.loc[df['ImageID'] == id])"
   ]
  },
  {
   "cell_type": "code",
   "execution_count": 89,
   "id": "537cf93d-e270-4fed-b97a-ad10ce24610a",
   "metadata": {},
   "outputs": [],
   "source": [
    "n = 1000"
   ]
  },
  {
   "cell_type": "code",
   "execution_count": 90,
   "id": "66b2c742-5f77-4844-b62f-ce9d01053e19",
   "metadata": {},
   "outputs": [],
   "source": [
    "hawks = {}\n",
    "for i in random.sample(available_ids,n):\n",
    "    if (bool(random.getrandbits(1))):\n",
    "        hawks[i] = 1\n",
    "    else:\n",
    "        hawks[i] = 0\n",
    "hawks = {'Hawks': hawks}\n",
    "with open(\"samples/Hawks.json\", \"w\") as outfile:\n",
    "    json.dump(hawks, outfile)"
   ]
  },
  {
   "cell_type": "code",
   "execution_count": 91,
   "id": "b2f959f3-b6de-4f24-9213-31cee1684ee9",
   "metadata": {},
   "outputs": [],
   "source": [
    "sushi = {}\n",
    "for i in random.sample(available_ids,n):\n",
    "    if (bool(random.getrandbits(1))):\n",
    "        sushi[i] = 1\n",
    "    else:\n",
    "        sushi[i] = 0\n",
    "sushi = {'Sushi': sushi}\n",
    "with open(\"samples/Sushi.json\", \"w\") as outfile:\n",
    "    json.dump(sushi, outfile)"
   ]
  },
  {
   "cell_type": "code",
   "execution_count": 92,
   "id": "1cbe05e9-434a-4078-a7bf-5726e570f9b2",
   "metadata": {},
   "outputs": [],
   "source": [
    "cupcake = {}\n",
    "for i in random.sample(available_ids,n):\n",
    "    if (bool(random.getrandbits(1))):\n",
    "        cupcake[i] = 1\n",
    "    else:\n",
    "        cupcake[i] = 0\n",
    "cupcake = {'Cupcake': cupcake}\n",
    "with open(\"samples/Cupcake.json\", \"w\") as outfile:\n",
    "    json.dump(cupcake, outfile)"
   ]
  },
  {
   "cell_type": "code",
   "execution_count": 6,
   "id": "5ff94e29-d09d-443c-834f-cedac83461a9",
   "metadata": {},
   "outputs": [],
   "source": [
    "import pickle"
   ]
  },
  {
   "cell_type": "code",
   "execution_count": 205,
   "id": "60b3acda-59e3-41c1-bfc8-06940db5bff8",
   "metadata": {},
   "outputs": [],
   "source": [
    "with open('outfile', 'wb') as fp:\n",
    "    pickle.dump(set(available_ids), fp)"
   ]
  },
  {
   "cell_type": "code",
   "execution_count": 53,
   "id": "437d2f25-61c7-49eb-95c5-cbda837a3676",
   "metadata": {},
   "outputs": [],
   "source": [
    "with open ('outfile', 'rb') as fp:\n",
    "    available_ids = list(pickle.load(fp))"
   ]
  },
  {
   "cell_type": "code",
   "execution_count": 55,
   "id": "4b3b482a-7e51-471a-a45d-0b065e567e38",
   "metadata": {},
   "outputs": [],
   "source": [
    "import random\n",
    "import json"
   ]
  },
  {
   "cell_type": "code",
   "execution_count": 56,
   "id": "c6729787-ff3e-48d0-b174-afd9e63db753",
   "metadata": {},
   "outputs": [],
   "source": [
    "n = 1000"
   ]
  },
  {
   "cell_type": "code",
   "execution_count": 57,
   "id": "e9493083-f67d-4902-b97a-aacbe08d5e8a",
   "metadata": {},
   "outputs": [],
   "source": [
    "birds = {}\n",
    "for i in random.sample(available_ids,n):\n",
    "    if (bool(random.getrandbits(1))):\n",
    "        birds[i] = 1\n",
    "    else:\n",
    "        birds[i] = 0\n",
    "birds = {'Birds': birds}\n",
    "with open(\"samples/Birds.json\", \"w\") as outfile:\n",
    "    json.dump(birds, outfile)"
   ]
  },
  {
   "cell_type": "code",
   "execution_count": 58,
   "id": "582e0970-faaf-4a08-9c60-b0b7e9e97f7d",
   "metadata": {},
   "outputs": [],
   "source": [
    "canoe = {}\n",
    "for i in random.sample(available_ids,n):\n",
    "    if (bool(random.getrandbits(1))):\n",
    "        canoe[i] = 1\n",
    "    else:\n",
    "        canoe[i] = 0\n",
    "canoe = {'Canoe': canoe}\n",
    "with open(\"samples/Canoe.json\", \"w\") as outfile:\n",
    "    json.dump(canoe, outfile)"
   ]
  },
  {
   "cell_type": "code",
   "execution_count": 60,
   "id": "bd9de99e-213e-426f-b9e6-9e05f9ac4fe4",
   "metadata": {},
   "outputs": [],
   "source": [
    "croissant = {}\n",
    "for i in random.sample(available_ids,n):\n",
    "    if (bool(random.getrandbits(1))):\n",
    "        croissant[i] = 1\n",
    "    else:\n",
    "        croissant[i] = 0\n",
    "croissant = {'Croissant': croissant}\n",
    "with open(\"samples/Croissant.json\", \"w\") as outfile:\n",
    "    json.dump(croissant, outfile)"
   ]
  },
  {
   "cell_type": "code",
   "execution_count": 61,
   "id": "f79f8173-ff0c-46ef-93fb-17ca85bea5a1",
   "metadata": {},
   "outputs": [],
   "source": [
    "muffin = {}\n",
    "for i in random.sample(available_ids,n):\n",
    "    if (bool(random.getrandbits(1))):\n",
    "        muffin[i] = 1\n",
    "    else:\n",
    "        muffin[i] = 0\n",
    "muffin = {'Muffin': muffin}\n",
    "with open(\"samples/Muffin.json\", \"w\") as outfile:\n",
    "    json.dump(muffin, outfile)"
   ]
  },
  {
   "cell_type": "code",
   "execution_count": 62,
   "id": "f14f619b-e331-44e4-887f-73ec8afdc865",
   "metadata": {},
   "outputs": [],
   "source": [
    "pizza = {}\n",
    "for i in random.sample(available_ids,n):\n",
    "    if (bool(random.getrandbits(1))):\n",
    "        pizza[i] = 1\n",
    "    else:\n",
    "        pizza[i] = 0\n",
    "pizza = {'Pizza': pizza}\n",
    "with open(\"samples/Pizza.json\", \"w\") as outfile:\n",
    "    json.dump(pizza, outfile)"
   ]
  },
  {
   "cell_type": "code",
   "execution_count": 136,
   "id": "c45054cd-6ff7-46b0-8674-9115f8715286",
   "metadata": {},
   "outputs": [
    {
     "name": "stdout",
     "output_type": "stream",
     "text": [
      "50 50\n"
     ]
    }
   ],
   "source": [
    "count = 0\n",
    "for id in list(croissant[\"Croissant\"].keys()):\n",
    "\n",
    "    if df.loc[df['ImageID'] == id].empty:\n",
    "        continue\n",
    "    else:\n",
    "        count += 1\n",
    "print(count, len(croissant[\"Croissant\"]))"
   ]
  },
  {
   "cell_type": "code",
   "execution_count": 138,
   "id": "5e9ddcf9-fab1-4680-9baf-092dd0c017c1",
   "metadata": {},
   "outputs": [
    {
     "data": {
      "text/html": [
       "<div>\n",
       "<style scoped>\n",
       "    .dataframe tbody tr th:only-of-type {\n",
       "        vertical-align: middle;\n",
       "    }\n",
       "\n",
       "    .dataframe tbody tr th {\n",
       "        vertical-align: top;\n",
       "    }\n",
       "\n",
       "    .dataframe thead th {\n",
       "        text-align: right;\n",
       "    }\n",
       "</style>\n",
       "<table border=\"1\" class=\"dataframe\">\n",
       "  <thead>\n",
       "    <tr style=\"text-align: right;\">\n",
       "      <th></th>\n",
       "      <th>ImageID</th>\n",
       "      <th>embedding</th>\n",
       "    </tr>\n",
       "  </thead>\n",
       "  <tbody>\n",
       "    <tr>\n",
       "      <th>0</th>\n",
       "      <td>000335f65ee227cf</td>\n",
       "      <td>[-1.383943737943668, -0.9189053270236168, -0.1...</td>\n",
       "    </tr>\n",
       "  </tbody>\n",
       "</table>\n",
       "</div>"
      ],
      "text/plain": [
       "            ImageID                                          embedding\n",
       "0  000335f65ee227cf  [-1.383943737943668, -0.9189053270236168, -0.1..."
      ]
     },
     "execution_count": 138,
     "metadata": {},
     "output_type": "execute_result"
    }
   ],
   "source": [
    "id = '000335f65ee227cf'\n",
    "df.loc[df['ImageID'] == id]"
   ]
  },
  {
   "cell_type": "code",
   "execution_count": null,
   "id": "cadedc40-4a3f-435e-9672-7c722a7fc193",
   "metadata": {},
   "outputs": [],
   "source": [
    "parquet_paths = ['/Users/rafael/Downloads/part-00000-fed1d8f9-f6ab-4f54-88aa-9908abd59bec-c000.snappy.parquet','/Users/rafael/Downloads/part-00001-fed1d8f9-f6ab-4f54-88aa-9908abd59bec-c000.snappy.parquet']\n",
    "df = pd.read_parquet(parquet_paths[0])\n",
    "df2 = pd.read_parquet(parquet_paths[1])\n",
    "df = df.append(df2)\n",
    "df"
   ]
  },
  {
   "cell_type": "code",
   "execution_count": null,
   "id": "36563be4-a891-4ae9-91f1-922049477bd6",
   "metadata": {},
   "outputs": [],
   "source": []
  },
  {
   "cell_type": "code",
   "execution_count": 15,
   "id": "b8ca8457-5bcc-4121-9cce-637749b8c4cc",
   "metadata": {},
   "outputs": [],
   "source": [
    "muffin2 = {}\n",
    "for i in range(51):\n",
    "    if i%2 == 1:\n",
    "        muffin2[df['ImageID'].values[i]] = 1\n",
    "    else:\n",
    "        muffin2[df['ImageID'].values[i]] = 0\n",
    "muffin2 = {'Muffin': muffin2}\n",
    "with open(\"Muffin2.json\", \"w\") as outfile:\n",
    "    json.dump(muffin2, outfile)"
   ]
  },
  {
   "cell_type": "code",
   "execution_count": 157,
   "id": "ded50481-c85d-4b4e-b3f3-049c5b691b31",
   "metadata": {},
   "outputs": [
    {
     "data": {
      "text/plain": [
       "{'dataperf_f1': 54.4,\n",
       " 'perf': 54.4,\n",
       " 'perf_std': 0.0,\n",
       " 'perf_by_tag': [{'tag': 'bird',\n",
       "   'pretty_perf': '54.4 %',\n",
       "   'perf': 54.4,\n",
       "   'perf_std': 0.0,\n",
       "   'perf_dict': {'dataperf_f1': 54.4}}]}"
      ]
     },
     "execution_count": 157,
     "metadata": {},
     "output_type": "execute_result"
    }
   ],
   "source": [
    "{\"dataperf_f1\": 54.4, \"perf\": 54.4, \"perf_std\": 0.0, \"perf_by_tag\": [{\"tag\": \"bird\", \"pretty_perf\": \"54.4 %\", \"perf\": 54.4, \"perf_std\": 0.0, \"perf_dict\": {\"dataperf_f1\": 54.4}}]}"
   ]
  },
  {
   "cell_type": "code",
   "execution_count": 296,
   "id": "706ead65-2a25-4d71-8daf-e2ac15f23e22",
   "metadata": {},
   "outputs": [],
   "source": [
    "df_new = pd.read_parquet('/Users/rafael/Downloads/dataperf-vision-selection-resources/test_sets/test-hawk.parquet')"
   ]
  },
  {
   "cell_type": "code",
   "execution_count": 297,
   "id": "d726fce3-438b-433a-9d39-02d4390ea718",
   "metadata": {},
   "outputs": [
    {
     "data": {
      "text/plain": [
       "['target_label', 'Embedding', 'ImageID']"
      ]
     },
     "execution_count": 297,
     "metadata": {},
     "output_type": "execute_result"
    }
   ],
   "source": [
    "['target_label','Embedding', 'ImageID']"
   ]
  },
  {
   "cell_type": "code",
   "execution_count": 298,
   "id": "d138dd58-87cf-41bd-b704-84eac08770b8",
   "metadata": {},
   "outputs": [],
   "source": [
    "df_new = df_new.rename({'ImageID':'ImageID', 'Confidence': 'target_label', 'embedding': 'Embedding'}, axis=1)"
   ]
  },
  {
   "cell_type": "code",
   "execution_count": 299,
   "id": "dc671ecf-2c3d-46d7-8929-6be6fb432b4e",
   "metadata": {},
   "outputs": [],
   "source": [
    "df_new.to_parquet(path = '/Users/rafael/Downloads/dataperf-vision-selection-resources/test_sets/test-hawk.parquet')"
   ]
  },
  {
   "cell_type": "code",
   "execution_count": 300,
   "id": "b06f4993-7d45-4a37-a021-6a0e0ae092ef",
   "metadata": {},
   "outputs": [
    {
     "data": {
      "text/html": [
       "<div>\n",
       "<style scoped>\n",
       "    .dataframe tbody tr th:only-of-type {\n",
       "        vertical-align: middle;\n",
       "    }\n",
       "\n",
       "    .dataframe tbody tr th {\n",
       "        vertical-align: top;\n",
       "    }\n",
       "\n",
       "    .dataframe thead th {\n",
       "        text-align: right;\n",
       "    }\n",
       "</style>\n",
       "<table border=\"1\" class=\"dataframe\">\n",
       "  <thead>\n",
       "    <tr style=\"text-align: right;\">\n",
       "      <th></th>\n",
       "      <th>ImageID</th>\n",
       "      <th>LabelName</th>\n",
       "      <th>target_label</th>\n",
       "      <th>OriginalURL</th>\n",
       "      <th>DisplayName</th>\n",
       "      <th>Embedding</th>\n",
       "    </tr>\n",
       "  </thead>\n",
       "  <tbody>\n",
       "    <tr>\n",
       "      <th>0</th>\n",
       "      <td>e60d148d428e96cd</td>\n",
       "      <td>/m/0fp7c</td>\n",
       "      <td>0</td>\n",
       "      <td>https://c6.staticflickr.com/6/5560/14764818909...</td>\n",
       "      <td>Hawk</td>\n",
       "      <td>[-0.0038521280919204775, 0.06254096050041212, ...</td>\n",
       "    </tr>\n",
       "    <tr>\n",
       "      <th>1</th>\n",
       "      <td>bc2260ec5b70b7e5</td>\n",
       "      <td>/m/0fp7c</td>\n",
       "      <td>0</td>\n",
       "      <td>https://farm6.staticflickr.com/3657/3607619201...</td>\n",
       "      <td>Hawk</td>\n",
       "      <td>[0.19757792792581547, -0.0628706741084504, -1....</td>\n",
       "    </tr>\n",
       "    <tr>\n",
       "      <th>2</th>\n",
       "      <td>be7aae0d065c11a0</td>\n",
       "      <td>/m/0fp7c</td>\n",
       "      <td>1</td>\n",
       "      <td>https://farm1.staticflickr.com/7253/6996634521...</td>\n",
       "      <td>Hawk</td>\n",
       "      <td>[0.17347788607282416, -0.37831432327491554, -1...</td>\n",
       "    </tr>\n",
       "    <tr>\n",
       "      <th>3</th>\n",
       "      <td>25880c4f38d01747</td>\n",
       "      <td>/m/0fp7c</td>\n",
       "      <td>1</td>\n",
       "      <td>https://farm8.staticflickr.com/94/257466316_26...</td>\n",
       "      <td>Hawk</td>\n",
       "      <td>[0.38980357065885335, -0.9966469970143762, -1....</td>\n",
       "    </tr>\n",
       "    <tr>\n",
       "      <th>4</th>\n",
       "      <td>904078b0695ffe0f</td>\n",
       "      <td>/m/0fp7c</td>\n",
       "      <td>1</td>\n",
       "      <td>https://c8.staticflickr.com/8/7173/6663562541_...</td>\n",
       "      <td>Hawk</td>\n",
       "      <td>[0.39844726358909366, -0.2868099119322688, -1....</td>\n",
       "    </tr>\n",
       "    <tr>\n",
       "      <th>...</th>\n",
       "      <td>...</td>\n",
       "      <td>...</td>\n",
       "      <td>...</td>\n",
       "      <td>...</td>\n",
       "      <td>...</td>\n",
       "      <td>...</td>\n",
       "    </tr>\n",
       "    <tr>\n",
       "      <th>140</th>\n",
       "      <td>7ead8a05548b7dd8</td>\n",
       "      <td>/m/0fp7c</td>\n",
       "      <td>1</td>\n",
       "      <td>https://c1.staticflickr.com/7/6127/6003146852_...</td>\n",
       "      <td>Hawk</td>\n",
       "      <td>[0.7204737072851969, -0.5799575879679919, -1.7...</td>\n",
       "    </tr>\n",
       "    <tr>\n",
       "      <th>141</th>\n",
       "      <td>b6030979ffbf6c00</td>\n",
       "      <td>/m/0fp7c</td>\n",
       "      <td>0</td>\n",
       "      <td>https://farm1.staticflickr.com/192/503607905_4...</td>\n",
       "      <td>Hawk</td>\n",
       "      <td>[0.7399902660512262, -0.34497502398512464, -0....</td>\n",
       "    </tr>\n",
       "    <tr>\n",
       "      <th>142</th>\n",
       "      <td>6f66217f8ffdbeea</td>\n",
       "      <td>/m/0fp7c</td>\n",
       "      <td>1</td>\n",
       "      <td>https://c3.staticflickr.com/4/3723/13695947494...</td>\n",
       "      <td>Hawk</td>\n",
       "      <td>[0.5977249684386043, -0.5686997837439453, -0.6...</td>\n",
       "    </tr>\n",
       "    <tr>\n",
       "      <th>143</th>\n",
       "      <td>b2692b73994377ce</td>\n",
       "      <td>/m/0fp7c</td>\n",
       "      <td>0</td>\n",
       "      <td>https://c7.staticflickr.com/9/8112/8539254331_...</td>\n",
       "      <td>Hawk</td>\n",
       "      <td>[0.6778727524730443, -0.8354259564874617, -0.7...</td>\n",
       "    </tr>\n",
       "    <tr>\n",
       "      <th>144</th>\n",
       "      <td>d84b26c3865bec24</td>\n",
       "      <td>/m/0fp7c</td>\n",
       "      <td>1</td>\n",
       "      <td>https://farm5.staticflickr.com/3893/1498221092...</td>\n",
       "      <td>Hawk</td>\n",
       "      <td>[0.5801936116195033, -0.9496025449658846, -0.8...</td>\n",
       "    </tr>\n",
       "  </tbody>\n",
       "</table>\n",
       "<p>145 rows × 6 columns</p>\n",
       "</div>"
      ],
      "text/plain": [
       "              ImageID LabelName target_label  \\\n",
       "0    e60d148d428e96cd  /m/0fp7c            0   \n",
       "1    bc2260ec5b70b7e5  /m/0fp7c            0   \n",
       "2    be7aae0d065c11a0  /m/0fp7c            1   \n",
       "3    25880c4f38d01747  /m/0fp7c            1   \n",
       "4    904078b0695ffe0f  /m/0fp7c            1   \n",
       "..                ...       ...          ...   \n",
       "140  7ead8a05548b7dd8  /m/0fp7c            1   \n",
       "141  b6030979ffbf6c00  /m/0fp7c            0   \n",
       "142  6f66217f8ffdbeea  /m/0fp7c            1   \n",
       "143  b2692b73994377ce  /m/0fp7c            0   \n",
       "144  d84b26c3865bec24  /m/0fp7c            1   \n",
       "\n",
       "                                           OriginalURL DisplayName  \\\n",
       "0    https://c6.staticflickr.com/6/5560/14764818909...        Hawk   \n",
       "1    https://farm6.staticflickr.com/3657/3607619201...        Hawk   \n",
       "2    https://farm1.staticflickr.com/7253/6996634521...        Hawk   \n",
       "3    https://farm8.staticflickr.com/94/257466316_26...        Hawk   \n",
       "4    https://c8.staticflickr.com/8/7173/6663562541_...        Hawk   \n",
       "..                                                 ...         ...   \n",
       "140  https://c1.staticflickr.com/7/6127/6003146852_...        Hawk   \n",
       "141  https://farm1.staticflickr.com/192/503607905_4...        Hawk   \n",
       "142  https://c3.staticflickr.com/4/3723/13695947494...        Hawk   \n",
       "143  https://c7.staticflickr.com/9/8112/8539254331_...        Hawk   \n",
       "144  https://farm5.staticflickr.com/3893/1498221092...        Hawk   \n",
       "\n",
       "                                             Embedding  \n",
       "0    [-0.0038521280919204775, 0.06254096050041212, ...  \n",
       "1    [0.19757792792581547, -0.0628706741084504, -1....  \n",
       "2    [0.17347788607282416, -0.37831432327491554, -1...  \n",
       "3    [0.38980357065885335, -0.9966469970143762, -1....  \n",
       "4    [0.39844726358909366, -0.2868099119322688, -1....  \n",
       "..                                                 ...  \n",
       "140  [0.7204737072851969, -0.5799575879679919, -1.7...  \n",
       "141  [0.7399902660512262, -0.34497502398512464, -0....  \n",
       "142  [0.5977249684386043, -0.5686997837439453, -0.6...  \n",
       "143  [0.6778727524730443, -0.8354259564874617, -0.7...  \n",
       "144  [0.5801936116195033, -0.9496025449658846, -0.8...  \n",
       "\n",
       "[145 rows x 6 columns]"
      ]
     },
     "execution_count": 300,
     "metadata": {},
     "output_type": "execute_result"
    }
   ],
   "source": [
    "df_2 = pd.read_parquet('/Users/rafael/Downloads/dataperf-vision-selection-resources/test_sets/test-hawk.parquet')\n",
    "df_2"
   ]
  },
  {
   "cell_type": "code",
   "execution_count": 307,
   "id": "22d9d865-98af-4c30-8384-917dea73d680",
   "metadata": {},
   "outputs": [
    {
     "data": {
      "text/plain": [
       "256"
      ]
     },
     "execution_count": 307,
     "metadata": {},
     "output_type": "execute_result"
    }
   ],
   "source": [
    "len(df_2['Embedding'][0])"
   ]
  },
  {
   "cell_type": "code",
   "execution_count": 235,
   "id": "565d7ba7-f8ac-4bbb-9ee6-ef02df8ac110",
   "metadata": {},
   "outputs": [],
   "source": [
    "df_sushi = pd.read_csv('/Users/rafael/Downloads/dataperf-vision-selection-resources/train_sets/random_500.csv')"
   ]
  },
  {
   "cell_type": "code",
   "execution_count": 260,
   "id": "4dc48edc-adf0-4956-9047-5017fc6f4b39",
   "metadata": {},
   "outputs": [],
   "source": [
    "sushi_dict = {'Sushi': {}}"
   ]
  },
  {
   "cell_type": "code",
   "execution_count": 264,
   "id": "bbf40598-c4d7-45fa-8636-9b4ca469b5e2",
   "metadata": {},
   "outputs": [],
   "source": [
    "labels = list(df_sushi['Confidence'].values)"
   ]
  },
  {
   "cell_type": "code",
   "execution_count": 265,
   "id": "c7954136-f869-441c-9767-f5b99c8dac9f",
   "metadata": {},
   "outputs": [],
   "source": [
    "ids = list(df_sushi['ImageID'].values)"
   ]
  },
  {
   "cell_type": "code",
   "execution_count": 274,
   "id": "c52e39cb-fbfd-4602-b045-a4cb717c026b",
   "metadata": {},
   "outputs": [],
   "source": [
    "intra_dict = {}\n",
    "for i in range(500):\n",
    "    intra_dict[f'{ids[i]}'] = float(labels[i])\n",
    "    "
   ]
  },
  {
   "cell_type": "code",
   "execution_count": 275,
   "id": "17c639f1-930c-4c73-8679-e46ab00553f9",
   "metadata": {},
   "outputs": [],
   "source": [
    "sushi_dict['Sushi'] = intra_dict"
   ]
  },
  {
   "cell_type": "code",
   "execution_count": 277,
   "id": "8523dd33-e4ef-446a-a429-c9674e0d980e",
   "metadata": {},
   "outputs": [],
   "source": [
    "with open(\"Sushi.json\", \"w\") as outfile:\n",
    "    json.dump(sushi_dict, outfile)"
   ]
  },
  {
   "cell_type": "code",
   "execution_count": 316,
   "id": "26c87642-9d8f-456f-844f-d24bee7ff103",
   "metadata": {},
   "outputs": [],
   "source": [
    "embedding_dict = {}"
   ]
  },
  {
   "cell_type": "code",
   "execution_count": 394,
   "id": "5f8b25a9-32da-4eb1-9364-8f923797747c",
   "metadata": {},
   "outputs": [],
   "source": [
    "df_new = pd.read_parquet('/Users/rafael/Downloads/dataperf-vision-selection-resources/embeddings/train_emb_256_dataperf.parquet/part-00071-c487d15f-d29d-4c93-96c2-4caf4c12cd59-c000.snappy.parquet')"
   ]
  },
  {
   "cell_type": "code",
   "execution_count": 395,
   "id": "92678025-174a-40e8-b1aa-bf925a2173d4",
   "metadata": {},
   "outputs": [
    {
     "data": {
      "text/html": [
       "<div>\n",
       "<style scoped>\n",
       "    .dataframe tbody tr th:only-of-type {\n",
       "        vertical-align: middle;\n",
       "    }\n",
       "\n",
       "    .dataframe tbody tr th {\n",
       "        vertical-align: top;\n",
       "    }\n",
       "\n",
       "    .dataframe thead th {\n",
       "        text-align: right;\n",
       "    }\n",
       "</style>\n",
       "<table border=\"1\" class=\"dataframe\">\n",
       "  <thead>\n",
       "    <tr style=\"text-align: right;\">\n",
       "      <th></th>\n",
       "      <th>ImageID</th>\n",
       "      <th>embedding</th>\n",
       "    </tr>\n",
       "  </thead>\n",
       "  <tbody>\n",
       "    <tr>\n",
       "      <th>0</th>\n",
       "      <td>000506542b3a9dd7</td>\n",
       "      <td>[-1.2127153543616391, -0.10673216263881578, 0....</td>\n",
       "    </tr>\n",
       "    <tr>\n",
       "      <th>1</th>\n",
       "      <td>00056c76aa3dd52a</td>\n",
       "      <td>[0.7178898916090762, 0.826355497831251, 0.7906...</td>\n",
       "    </tr>\n",
       "    <tr>\n",
       "      <th>2</th>\n",
       "      <td>000692d348b0f181</td>\n",
       "      <td>[0.6396630836552186, 0.898348981106668, 0.4226...</td>\n",
       "    </tr>\n",
       "    <tr>\n",
       "      <th>3</th>\n",
       "      <td>000cabb2eb284c8c</td>\n",
       "      <td>[1.1945492605513477, 0.8496085515788221, -0.67...</td>\n",
       "    </tr>\n",
       "    <tr>\n",
       "      <th>4</th>\n",
       "      <td>0011cf9a929a4e19</td>\n",
       "      <td>[0.5329256287734359, 1.8642507257449732, 0.614...</td>\n",
       "    </tr>\n",
       "    <tr>\n",
       "      <th>...</th>\n",
       "      <td>...</td>\n",
       "      <td>...</td>\n",
       "    </tr>\n",
       "    <tr>\n",
       "      <th>16466</th>\n",
       "      <td>ffe1a2e32b45d1dc</td>\n",
       "      <td>[-0.5439635132177799, -1.0043923233747394, 0.9...</td>\n",
       "    </tr>\n",
       "    <tr>\n",
       "      <th>16467</th>\n",
       "      <td>ffe46a38144178dd</td>\n",
       "      <td>[-0.4237458416684124, 0.010014072469498137, -0...</td>\n",
       "    </tr>\n",
       "    <tr>\n",
       "      <th>16468</th>\n",
       "      <td>fff3c2eb1c9863c7</td>\n",
       "      <td>[-0.4050140839736052, 0.9564130760744758, 1.04...</td>\n",
       "    </tr>\n",
       "    <tr>\n",
       "      <th>16469</th>\n",
       "      <td>fff41ccc90430cc0</td>\n",
       "      <td>[-0.4732436203454635, 0.21041616335678826, 0.9...</td>\n",
       "    </tr>\n",
       "    <tr>\n",
       "      <th>16470</th>\n",
       "      <td>ffffdc1308c30d53</td>\n",
       "      <td>[-0.5498107897396933, 0.9266576856606651, 0.31...</td>\n",
       "    </tr>\n",
       "  </tbody>\n",
       "</table>\n",
       "<p>16471 rows × 2 columns</p>\n",
       "</div>"
      ],
      "text/plain": [
       "                ImageID                                          embedding\n",
       "0      000506542b3a9dd7  [-1.2127153543616391, -0.10673216263881578, 0....\n",
       "1      00056c76aa3dd52a  [0.7178898916090762, 0.826355497831251, 0.7906...\n",
       "2      000692d348b0f181  [0.6396630836552186, 0.898348981106668, 0.4226...\n",
       "3      000cabb2eb284c8c  [1.1945492605513477, 0.8496085515788221, -0.67...\n",
       "4      0011cf9a929a4e19  [0.5329256287734359, 1.8642507257449732, 0.614...\n",
       "...                 ...                                                ...\n",
       "16466  ffe1a2e32b45d1dc  [-0.5439635132177799, -1.0043923233747394, 0.9...\n",
       "16467  ffe46a38144178dd  [-0.4237458416684124, 0.010014072469498137, -0...\n",
       "16468  fff3c2eb1c9863c7  [-0.4050140839736052, 0.9564130760744758, 1.04...\n",
       "16469  fff41ccc90430cc0  [-0.4732436203454635, 0.21041616335678826, 0.9...\n",
       "16470  ffffdc1308c30d53  [-0.5498107897396933, 0.9266576856606651, 0.31...\n",
       "\n",
       "[16471 rows x 2 columns]"
      ]
     },
     "execution_count": 395,
     "metadata": {},
     "output_type": "execute_result"
    }
   ],
   "source": [
    "df_new"
   ]
  },
  {
   "cell_type": "code",
   "execution_count": 317,
   "id": "69da299b-8829-49ec-a421-5e642cdce133",
   "metadata": {},
   "outputs": [],
   "source": [
    "embedding_list = (df_2['Embedding'].to_list())"
   ]
  },
  {
   "cell_type": "code",
   "execution_count": 319,
   "id": "6d8d94c9-c246-472e-8c54-1c0d168d652a",
   "metadata": {},
   "outputs": [],
   "source": [
    "id_names =  (df_2['ImageID'].to_list())"
   ]
  },
  {
   "cell_type": "code",
   "execution_count": 326,
   "id": "3cab8316-bf74-40ae-a7d8-d2826ca70160",
   "metadata": {},
   "outputs": [],
   "source": [
    "for i in range(len(embedding_list)):\n",
    "    embedding_dict[f'train{id_names[i]}.npy'] = embedding_list[i]"
   ]
  },
  {
   "cell_type": "code",
   "execution_count": 330,
   "id": "361e7bb5-6a3c-479e-9ab8-9c5f014f569a",
   "metadata": {},
   "outputs": [],
   "source": [
    "import boto3"
   ]
  },
  {
   "cell_type": "code",
   "execution_count": 361,
   "id": "9150bbd6-d0b6-4530-ba00-1153da0be83a",
   "metadata": {},
   "outputs": [],
   "source": [
    "new_emb['train37510ffe72539c23.npy'] = embedding_dict['train37510ffe72539c23.npy']"
   ]
  },
  {
   "cell_type": "code",
   "execution_count": 376,
   "id": "57d0a835-82df-4583-8d9b-63a115551e19",
   "metadata": {},
   "outputs": [
    {
     "data": {
      "text/plain": [
       "numpy.ndarray"
      ]
     },
     "execution_count": 376,
     "metadata": {},
     "output_type": "execute_result"
    }
   ],
   "source": [
    "type(new_emb['train37510ffe72539c23.npy'])"
   ]
  },
  {
   "cell_type": "code",
   "execution_count": null,
   "id": "0b72dd39-41b8-4d5c-8a3a-a8f2b4da48e2",
   "metadata": {},
   "outputs": [],
   "source": [
    "ftmp = tempfile.NamedTemporaryFile(delete=False)\n",
    "fname = ftmp.name + \".npy\"\n",
    "inp = np.random.rand(100)\n",
    "np.save(fname, inp, allow_pickle=False)\n",
    "out = np.load(fname, allow_pickle=False)"
   ]
  },
  {
   "cell_type": "code",
   "execution_count": 427,
   "id": "58916299-b236-49a5-9168-d7d86f12da55",
   "metadata": {},
   "outputs": [
    {
     "name": "stdout",
     "output_type": "stream",
     "text": [
      "[ 3.89803571e-01 -9.96646997e-01 -1.81296639e+00 -2.11422996e-01\n",
      "  1.11237384e+00  5.50917144e-01 -2.23019595e-01  1.21128170e+00\n",
      " -6.06581952e-01 -1.22170200e-01  1.91518837e-02  2.59825023e+00\n",
      " -1.46337609e-01  1.14671604e+00 -1.04500072e+00 -1.09172317e+00\n",
      "  1.28390928e+00 -6.02485930e-01 -1.38633525e+00 -5.86013834e-01\n",
      "  1.40964381e+00  2.83743064e+00  1.24784790e+00 -9.70432275e-01\n",
      " -7.10446552e-02 -1.33872242e+00  4.68498640e-02 -2.96933628e-01\n",
      "  5.03643044e-01  1.77543576e+00 -7.49830448e-01 -2.92437834e-01\n",
      " -4.35559568e-02 -6.97971199e-01 -1.54200581e+00  1.00275982e+00\n",
      " -1.58844006e-01 -1.10935264e+00 -7.16555608e-01 -3.23272959e-01\n",
      " -1.20135634e+00  4.06764028e-01 -7.16184317e-01  2.85940422e-01\n",
      "  1.42247711e-01  4.45880963e-01  2.65902923e+00  6.63447124e-01\n",
      "  2.96592291e-02  1.96929396e-01  1.19715826e+00 -1.85437922e+00\n",
      " -3.22858810e+00 -5.52233908e-01 -2.28968643e+00  1.89881467e+00\n",
      " -2.69826089e-01 -1.00715497e+00 -4.31742139e-01  8.82787116e-01\n",
      " -2.07622814e-01  2.40897019e+00 -2.04291252e+00  3.29187109e-01\n",
      "  3.30926936e-01  5.40466498e-01  5.21807885e-01 -1.01563803e+00\n",
      "  9.14845711e-01 -4.10491149e-01  6.25429816e-01  1.61488801e+00\n",
      "  2.50226381e+00  6.01955673e-02 -7.91900018e-01 -1.76873686e-01\n",
      " -2.28771317e+00  6.39635918e-01  1.16536545e+00  2.11140401e+00\n",
      "  8.89996511e-02  1.33888259e-01 -9.99618052e-01  3.47843187e+00\n",
      "  8.78792862e-01  1.11952807e-01  1.72209416e+00  6.02893362e-01\n",
      " -8.45727799e-02  3.66698320e-01  7.13103677e-01  2.46110374e+00\n",
      "  7.51076212e-01  2.95859024e+00  8.80468588e-01 -2.62122633e-01\n",
      " -1.19645276e+00  6.12483290e-01 -2.70173794e+00  4.63667627e-01\n",
      " -1.07226326e+00  1.20642437e-02  2.24335401e+00  2.29066151e+00\n",
      " -2.63806008e-01 -3.71698775e-01  9.11383716e-01 -5.66627229e-02\n",
      " -8.54939232e-01 -2.07023799e-01  1.79320635e+00 -8.95001470e-01\n",
      " -1.75708440e+00  6.49242586e-01 -5.17078360e-01  4.03644993e-01\n",
      " -5.89727554e-01 -1.64884495e+00  2.47910865e+00  9.47566147e-01\n",
      " -2.24377446e-01 -2.23720885e-03  2.60619694e+00  1.59679699e-01\n",
      " -3.93530441e-01 -1.51868802e+00  3.48610412e-01  8.99090255e-02\n",
      "  1.15730898e+00  1.10894727e-01 -4.43198262e-02 -4.42949224e-01\n",
      " -7.60400772e-01 -4.39890787e-01  2.51312671e-01 -8.79998981e-01\n",
      "  1.20019254e+00  1.53487517e+00  1.66548900e-02  1.77565735e+00\n",
      "  2.38695643e+00 -2.68797990e-01  1.22994696e+00  1.05242160e-01\n",
      " -2.24284337e-01 -1.74365392e-01 -1.29437818e+00  1.29453605e+00\n",
      "  1.01599930e+00  1.82553687e+00 -9.77754401e-01  7.55106541e-01\n",
      "  4.22414110e-01  6.97701425e-01  2.74640753e+00  2.72244357e+00\n",
      "  7.00360122e-01 -6.34062527e-01  1.53573036e+00  1.03219454e+00\n",
      "  1.37059934e-01 -3.00395361e-01  9.46676673e-01  1.42820776e+00\n",
      " -1.83891427e+00  1.60916704e-01  6.71404128e-01 -7.54523616e-02\n",
      "  5.98854364e-01 -7.71613639e-01 -6.55620813e-01 -1.41284540e+00\n",
      " -8.83293019e-02  3.67647495e+00  6.14790081e-01 -3.52725149e-01\n",
      "  2.49560669e+00  3.17937151e+00  1.41134017e-01  4.70473738e-01\n",
      "  1.56911217e-01 -8.69234430e-01  5.51784682e-01 -1.12584407e+00\n",
      " -2.36649778e+00 -4.99193641e-01 -1.07530067e+00 -3.71462427e-01\n",
      "  4.84255341e-01 -1.89550505e+00  1.51478485e+00  1.84459741e+00\n",
      "  2.19528381e-01 -2.81967307e-01 -3.24608813e-01  1.88795676e+00\n",
      "  1.27942137e+00 -1.37998819e-01 -2.05380238e-01  4.26948425e-01\n",
      " -3.89293401e-01  4.01363498e-01  1.98159891e+00 -1.57827198e-01\n",
      " -5.85166423e-01 -7.13019953e-01 -6.38005962e-01  1.43934620e+00\n",
      "  7.15919559e-01 -5.31886315e-01  3.68193605e-01 -1.90642042e+00\n",
      "  8.62036109e-01 -6.52963357e-01  1.07742582e-01  2.81807473e+00\n",
      "  1.23933507e+00  2.42569902e+00  2.17956315e+00 -9.52152608e-02\n",
      "  9.07720855e-01  1.01096203e+00 -3.24792922e-01  2.39230798e+00\n",
      " -6.16348712e-01  2.36699218e+00  2.11694442e+00  5.38469330e-01\n",
      " -3.01368494e-01  3.72789505e-01  1.87059031e+00  2.23637478e-03\n",
      "  5.00828638e-01  6.83015162e-01 -2.53589557e-01  1.37718434e+00\n",
      "  1.67791787e+00  4.18906651e-01 -1.38630361e+00 -8.20388707e-01\n",
      " -1.77622874e+00 -2.51923289e+00  1.99978151e+00 -5.16371872e-01\n",
      "  1.42943314e-01 -8.87400970e-01  8.69817718e-02 -1.54702236e-02\n",
      " -2.41089198e-01 -1.48360916e+00  1.91162173e+00  1.27717093e+00\n",
      "  2.13009238e-01 -5.98617984e-01 -6.32361384e-01  1.94918398e+00]\n",
      "[ 1.73477886e-01 -3.78314323e-01 -1.15957538e+00 -4.55457117e-01\n",
      " -1.24829119e-01 -6.82458939e-01  2.47177816e-01  6.75238190e-01\n",
      "  6.32115197e-01 -6.86811856e-01  1.31945937e-01  2.90450028e+00\n",
      " -7.81145498e-02  7.61810122e-01  3.53271576e-01 -1.93634324e+00\n",
      "  4.34813137e-01  7.93498748e-01 -9.99374515e-01  3.57337146e-01\n",
      "  7.67517595e-01  3.23606027e+00  8.09872843e-01 -1.87386090e+00\n",
      "  4.02630880e-01 -1.97024956e+00 -2.02397129e+00  6.84022534e-01\n",
      " -6.97145592e-01  2.57936995e+00 -1.79964854e+00 -8.49397060e-01\n",
      "  6.13147645e-01  8.10354836e-01 -3.39851667e+00  1.22421018e+00\n",
      " -8.60824905e-01 -1.60722203e+00  3.59145122e-01  2.01454811e+00\n",
      " -1.61948743e-01 -1.00224593e+00  5.73652303e-01  6.30755277e-01\n",
      "  4.14952294e-01  2.16821687e+00  2.53577484e+00  1.82889149e+00\n",
      "  1.75935907e-01 -6.57751382e-02  1.10174426e+00 -2.06796838e+00\n",
      " -2.94581082e+00 -1.28551166e+00 -1.51854207e+00  1.67130640e+00\n",
      " -1.03049907e+00 -5.07271596e-01 -6.97514998e-01 -1.84129927e-01\n",
      " -7.49230290e-01  2.12516077e+00 -5.71402462e-01  7.41986199e-01\n",
      " -2.57257231e-01  9.47876568e-01  2.24098504e+00 -5.17886593e-01\n",
      "  2.59016190e+00  2.18350262e+00 -2.46278041e+00  2.97659203e+00\n",
      "  1.79582747e-01  2.31392899e+00  7.35421377e-01 -1.36229226e-01\n",
      " -1.11759859e+00  4.11274083e-01  2.02971659e+00  2.34953279e+00\n",
      "  1.39825615e-01  1.29747795e+00 -1.92871190e+00  7.62746025e-01\n",
      "  1.78325199e+00 -7.74352229e-01  1.96503445e+00 -8.22589279e-01\n",
      "  4.76711337e-01  1.97345695e-01  2.41591692e-04  3.03953992e+00\n",
      " -3.64576371e-01 -5.85988048e-01  2.30729064e-02  2.40199793e+00\n",
      "  4.04458971e-01  4.62537789e-01 -9.44197385e-01 -3.94466042e-01\n",
      " -7.71524621e-01 -1.44357413e+00  3.80624581e-01  1.02348017e+00\n",
      " -2.51731718e-01 -1.82386160e+00 -1.98006934e-01  1.71773232e+00\n",
      "  3.39659050e-01 -1.61678386e-01  8.64877151e-01  5.27221507e-01\n",
      " -1.33709202e+00 -5.17925673e-01  5.45324675e-01 -3.39876880e-01\n",
      "  6.28603177e-01  1.05901119e+00  3.21904938e+00  5.65501247e-01\n",
      " -1.36764496e+00 -1.05371234e+00  1.36910906e+00  2.13052453e+00\n",
      " -1.53023197e+00 -7.13439829e-02  1.77023797e+00  3.76738890e-01\n",
      "  5.80164396e-01  1.32691407e+00  6.60211046e-01 -5.98368078e-01\n",
      "  6.98442518e-01 -2.54519675e+00  1.57567109e+00  4.16967821e-01\n",
      "  4.76946804e-01 -9.59922631e-01  9.60794297e-02  1.55166016e-01\n",
      "  1.81177522e+00 -1.52597836e+00  2.82341435e+00  1.21299257e-01\n",
      " -8.44809950e-01  7.03000928e-02  1.53342508e-01  3.38649085e+00\n",
      "  5.65857183e-01  3.49518456e+00 -1.98264737e+00  8.48937940e-01\n",
      " -4.80279170e-01  8.66791453e-01  7.33455740e-01  3.36394531e+00\n",
      " -7.11448994e-02 -1.67163688e+00  1.89634404e+00  5.24291752e-01\n",
      " -2.32818349e+00 -9.27940928e-01 -2.84750277e-01  2.78600716e+00\n",
      " -3.27495724e+00  1.23622920e+00 -4.39654288e-01  1.33676926e+00\n",
      " -3.71218248e-02 -4.67805272e-01 -1.19710997e+00 -1.01201737e+00\n",
      "  4.00629907e-01  2.37262771e+00  1.93417388e+00 -3.06882494e-01\n",
      "  1.60856514e+00  2.23441980e+00  1.54979445e+00  1.71643700e+00\n",
      "  1.36638736e-01  1.06117105e+00 -1.02864472e+00 -2.34444189e+00\n",
      " -2.94609160e+00 -1.58258268e+00  2.89173790e+00  1.16163355e+00\n",
      "  2.59235939e+00 -2.02021420e+00 -7.73131893e-01  1.29344678e+00\n",
      "  3.99642409e-01  2.74359725e-01 -4.29611048e+00  3.21451459e+00\n",
      "  8.61943075e-01 -8.29561193e-02  3.62781221e-01 -1.28975848e+00\n",
      "  1.45744159e+00 -5.07338791e-02  2.80161335e-01 -1.88915363e+00\n",
      " -5.48913797e-02  1.59280869e+00 -2.64753155e+00  3.05718540e-02\n",
      "  8.57470089e-01  3.38945004e-01 -4.86244452e-01  3.47816665e-01\n",
      " -6.40024050e-02 -1.89914441e-01 -1.09029680e+00  1.28981721e+00\n",
      "  1.57027400e+00  1.02784636e+00  3.18322695e+00 -6.64335702e-01\n",
      "  1.79662418e+00  3.36934653e-01  7.86187765e-01  3.36239847e+00\n",
      " -6.71641773e-01  4.16299206e-01  1.67452233e+00 -2.92389720e-01\n",
      " -9.64364373e-01  3.33029921e-01  6.98441369e-01  3.99958218e-01\n",
      "  9.19708275e-02 -8.20748303e-01  3.45360249e-01  1.13682329e+00\n",
      "  6.91683315e-01 -7.31566063e-01  8.30114479e-01 -2.31014512e+00\n",
      " -3.03351615e+00 -7.30246093e-01 -2.97940655e+00  2.73203994e-01\n",
      " -4.12306385e-01 -5.42596202e-01 -6.75748803e-01 -2.75624418e-02\n",
      "  1.45179840e+00 -6.41767557e-01  4.80260974e-01  1.02999982e+00\n",
      "  1.62948661e+00 -7.74186094e-01 -6.38427721e-01  1.36770599e+00]\n",
      "[ 0.74329027 -0.3775754  -1.55002959 -0.08654639 -0.84612519 -0.66517953\n",
      " -0.02449258  0.36550824 -0.09603422 -0.42939465  0.05933956  3.72453531\n",
      " -0.60181018 -0.18968162 -0.33691938 -1.21067376  1.69810332 -0.68387043\n",
      " -2.19420451  0.30623149  0.04384658  3.88534118  2.54776959 -0.48658014\n",
      "  0.48451308 -0.31657583 -2.93257781 -0.09047868  0.27749259  2.14582287\n",
      " -0.7742917   0.61943849  1.17077945  0.65668756 -1.49204705  0.82001543\n",
      " -1.14004735 -1.53238315 -0.9232495   1.49888674 -1.35190679 -1.06768895\n",
      " -0.98028353  0.26184235  0.33910083 -0.6371447   0.83411936  0.6429185\n",
      "  0.25254067  1.61010048  1.70969211 -2.14806023 -1.63120278  0.22985059\n",
      " -1.83635132  0.81144822 -0.85230331 -0.01214619 -1.0530559   0.78959619\n",
      " -1.29366791  2.32742711 -0.47322131  0.18036712  0.2442932   0.57961274\n",
      "  1.83769874 -1.92854169 -0.32842854 -0.12183421  1.06949212 -1.1666125\n",
      " -0.18457919  1.42867819  0.22614148  1.24973795 -0.27109001 -1.30841724\n",
      " -0.1323186   1.50524927 -0.06151336  0.36280611 -0.33027768 -0.68321206\n",
      "  1.62078746 -1.69239535  0.69330277  2.77379231 -0.89682064 -0.79466231\n",
      "  0.19352146  1.983096    0.32072105  1.41947621  0.45555747  0.90832593\n",
      " -2.51358088 -0.24226676 -1.49537912 -0.2563347  -1.98138404 -0.37085698\n",
      "  1.62641746  1.06244157 -0.82419462 -0.57390422  0.9138385  -1.00704416\n",
      " -0.23448064 -1.37492495 -0.25682802  0.11005032  0.23172159 -1.56330803\n",
      "  0.91391364 -0.34495631  0.50074237 -0.4066586  -0.00549562  3.24345052\n",
      "  0.75700746 -1.69821946  1.77941427 -0.28645015 -0.57915812  1.20586644\n",
      "  0.36845146  0.58970282  0.22338647  0.20552488  0.51302908  1.04770178\n",
      " -0.68046897  0.52678917 -0.6986149  -1.40170292  0.61719286 -0.47468235\n",
      " -0.56355147 -1.18205737 -0.18334463  1.71284032  2.02351803  0.82235456\n",
      " -0.17395866  0.0966321  -0.06158389  0.85559931 -0.34557713  1.28382154\n",
      "  1.02731127 -0.92987219 -0.21203948  0.63788485  0.84467619  1.97563281\n",
      " -0.50550261 -1.95678332  1.12111351 -1.63963881  1.04433216 -1.59185571\n",
      "  1.44506895  2.29460523  1.94414325 -0.33587755 -0.36165364  0.26807456\n",
      "  0.69051003  0.19675298  1.47340625  0.2810714   0.32018736  0.70501098\n",
      "  0.5535334   2.53173343  0.11880176  2.23190851  0.55329793  1.51165165\n",
      "  2.05233722  0.0862875  -0.68701175 -1.41732675 -1.63925079 -1.93015384\n",
      " -0.08638934  2.0572556  -0.34858196  0.83103614 -1.45979835 -1.14297843\n",
      "  2.16423315 -0.06061224  0.13932088  0.5792231   1.30258981 -0.31806488\n",
      " -0.71589099 -0.29994465 -1.2526677  -1.78460434  1.16588397 -0.328064\n",
      " -0.74002878  0.30247325  0.3442312  -0.28380328 -0.62916205 -0.75991837\n",
      "  1.97814817  0.51295979  0.36566438 -0.25536378 -0.27424215  0.04552544\n",
      "  0.17500421  1.00346983  1.35499899 -0.38314174 -0.50808836  0.24078918\n",
      "  0.60978008  1.91112286  0.82011784 -0.2615277  -0.26694167 -0.67379871\n",
      " -2.74933261  1.37684731  1.99775643  0.10294325  0.5447847  -2.57597607\n",
      "  2.63937386  0.68193744  0.08253477  0.39086499 -0.66228937 -2.01208531\n",
      " -1.61198843 -0.99157155  0.74521818 -0.22949644 -0.66489836  1.76523025\n",
      "  0.11179357  1.58020681  0.23154623 -0.7978364   0.02799542  0.51259032\n",
      "  0.64821907 -1.05749894 -0.83042711 -1.11948847]\n"
     ]
    }
   ],
   "source": [
    "s3_client = session.client('s3')\n",
    "for i in new_emb:\n",
    "    with tempfile.NamedTemporaryFile() as tf:\n",
    "        fname = tf.name + \".npy\"\n",
    "        np.save(fname, new_emb[i], allow_pickle=False)\n",
    "        print(np.load(fname, allow_pickle = False))\n",
    "        #s3_client.upload_file(Filename = tf.name, Bucket= 'vision-dataperf', Key = f'public_train_dataset_256_embeddings_dynabench_formatted/{i}')"
   ]
  }
 ],
 "metadata": {
  "kernelspec": {
   "display_name": "Python 3",
   "language": "python",
   "name": "python3"
  },
  "language_info": {
   "codemirror_mode": {
    "name": "ipython",
    "version": 3
   },
   "file_extension": ".py",
   "mimetype": "text/x-python",
   "name": "python",
   "nbconvert_exporter": "python",
   "pygments_lexer": "ipython3",
   "version": "3.9.5"
  }
 },
 "nbformat": 4,
 "nbformat_minor": 5
}
